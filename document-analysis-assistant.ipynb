{
 "cells": [
  {
   "cell_type": "markdown",
   "id": "19fedd3b",
   "metadata": {},
   "source": [
    "> 📄 **Step 1: Extract Text from a PDF**\n",
    ">\n",
    "> The first step is reading the PDF file and extracting text from it.\n",
    "> There are several ways to do this, and each has its own strengths:\n",
    ">\n",
    "> - **✅ PyMuPDF** — Best for accurate, layout-aware text extraction.\n",
    "> - **📊 pdfplumber** — Ideal for extracting **tables** and **structured data**.\n",
    "> - **🛠 PyPDF2** — Great for basic tasks like reading text or manipulating **PDF metadata**.\n",
    ">\n",
    "> 👉 In this project, we’ll continue using **PyMuPDF** for its balance of performance and layout accuracy.\n",
    ">\n",
    "> 📦 **Installation**:\n",
    ">\n",
    "> ```bash\n",
    "> pip install pymupdf\n",
    "> ```\n"
   ]
  },
  {
   "cell_type": "code",
   "execution_count": 1,
   "id": "1568edc7",
   "metadata": {},
   "outputs": [],
   "source": [
    "# Uncomment the next line if you want to install PyMuPDF\n",
    "# !pip install pymupdf"
   ]
  },
  {
   "cell_type": "code",
   "execution_count": 2,
   "id": "cf78bdea",
   "metadata": {},
   "outputs": [],
   "source": [
    "import fitz  # PyMuPDF\n",
    "\n",
    "def extract_text_from_pdf(pdf_path):\n",
    "    doc = fitz.open(pdf_path)\n",
    "    text = \"\\n\".join([page.get_text() for page in doc])\n",
    "    return text\n"
   ]
  },
  {
   "cell_type": "code",
   "execution_count": 3,
   "id": "7337bd6e",
   "metadata": {},
   "outputs": [
    {
     "name": "stdout",
     "output_type": "stream",
     "text": [
      "Document-Analysis-Assistant: Example Document\n",
      "This document serves as an example for the Document-Analysis-Assistant project.\n",
      "The goal of this project is to build a powerful tool that can extract, summarize, and analyze content\n",
      "from any document format.\n",
      "### Abstract:\n",
      "Document-Analysis-Assistant uses state-of-the-art Natural Language Processing (NLP) and\n",
      "Machine Learning (ML) techniques to help users understand the content of their documents. This\n",
      "tool is flexible and can work with a wide range o\n"
     ]
    }
   ],
   "source": [
    "# Test the function (replace with your own PDF file path)\n",
    "pdf_text = extract_text_from_pdf(\"example.pdf\")\n",
    "print(pdf_text[:500])  # Print the first 500 characters of the extracted text\n"
   ]
  },
  {
   "cell_type": "code",
   "execution_count": null,
   "id": "0c145782",
   "metadata": {},
   "outputs": [],
   "source": []
  }
 ],
 "metadata": {
  "kernelspec": {
   "display_name": "Python 3 (ipykernel)",
   "language": "python",
   "name": "python3"
  },
  "language_info": {
   "codemirror_mode": {
    "name": "ipython",
    "version": 3
   },
   "file_extension": ".py",
   "mimetype": "text/x-python",
   "name": "python",
   "nbconvert_exporter": "python",
   "pygments_lexer": "ipython3",
   "version": "3.10.6"
  },
  "toc": {
   "base_numbering": 1,
   "nav_menu": {},
   "number_sections": true,
   "sideBar": true,
   "skip_h1_title": false,
   "title_cell": "Table of Contents",
   "title_sidebar": "Contents",
   "toc_cell": false,
   "toc_position": {},
   "toc_section_display": true,
   "toc_window_display": false
  }
 },
 "nbformat": 4,
 "nbformat_minor": 5
}
